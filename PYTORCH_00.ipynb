{
  "nbformat": 4,
  "nbformat_minor": 0,
  "metadata": {
    "colab": {
      "provenance": [],
      "authorship_tag": "ABX9TyOvxZnSR0nivX4TuYrXSeSu",
      "include_colab_link": true
    },
    "kernelspec": {
      "name": "python3",
      "display_name": "Python 3"
    },
    "language_info": {
      "name": "python"
    }
  },
  "cells": [
    {
      "cell_type": "markdown",
      "metadata": {
        "id": "view-in-github",
        "colab_type": "text"
      },
      "source": [
        "<a href=\"https://colab.research.google.com/github/jrevault/ai_stuff/blob/main/PYTORCH_00.ipynb\" target=\"_parent\"><img src=\"https://colab.research.google.com/assets/colab-badge.svg\" alt=\"Open In Colab\"/></a>"
      ]
    },
    {
      "cell_type": "code",
      "execution_count": 1,
      "metadata": {
        "colab": {
          "base_uri": "https://localhost:8080/"
        },
        "id": "rynICe7xQV-Z",
        "outputId": "4e613f84-f54a-4b5d-c809-4dc3f2b27df8"
      },
      "outputs": [
        {
          "output_type": "stream",
          "name": "stdout",
          "text": [
            "1.13.1+cu116\n"
          ]
        }
      ],
      "source": [
        "import torch\n",
        "import pandas as pd\n",
        "import numpy as np\n",
        "import matplotlib.pyplot as plt\n",
        "\n",
        "print(torch.__version__)"
      ]
    },
    {
      "cell_type": "markdown",
      "source": [
        "Creating tensors\n",
        "https://pytorch.org/docs/stable/tensors.html"
      ],
      "metadata": {
        "id": "6_fqiLd7fTKF"
      }
    },
    {
      "cell_type": "code",
      "source": [
        "scalar = torch.tensor(7)\n",
        "scalar"
      ],
      "metadata": {
        "colab": {
          "base_uri": "https://localhost:8080/"
        },
        "id": "q36TO0PufU1l",
        "outputId": "d1f4390e-b360-44d7-bad8-15d45a9a488a"
      },
      "execution_count": 2,
      "outputs": [
        {
          "output_type": "execute_result",
          "data": {
            "text/plain": [
              "tensor(7)"
            ]
          },
          "metadata": {},
          "execution_count": 2
        }
      ]
    },
    {
      "cell_type": "code",
      "source": [
        "scalar.item()"
      ],
      "metadata": {
        "colab": {
          "base_uri": "https://localhost:8080/"
        },
        "id": "Ai-rd450fhmo",
        "outputId": "b007e935-29e0-4b59-e24c-d2c9985e03a2"
      },
      "execution_count": 3,
      "outputs": [
        {
          "output_type": "execute_result",
          "data": {
            "text/plain": [
              "7"
            ]
          },
          "metadata": {},
          "execution_count": 3
        }
      ]
    },
    {
      "cell_type": "code",
      "source": [
        "scalar.shape"
      ],
      "metadata": {
        "colab": {
          "base_uri": "https://localhost:8080/"
        },
        "id": "InetXqaElz4F",
        "outputId": "550d765f-3a19-47bb-86ce-7c866e0e3329"
      },
      "execution_count": 4,
      "outputs": [
        {
          "output_type": "execute_result",
          "data": {
            "text/plain": [
              "torch.Size([])"
            ]
          },
          "metadata": {},
          "execution_count": 4
        }
      ]
    },
    {
      "cell_type": "code",
      "source": [
        "scalar.ndim"
      ],
      "metadata": {
        "colab": {
          "base_uri": "https://localhost:8080/"
        },
        "id": "jHkpOf4Zl6jP",
        "outputId": "7ebb922e-7fa9-4110-9934-e90c69e7d773"
      },
      "execution_count": 5,
      "outputs": [
        {
          "output_type": "execute_result",
          "data": {
            "text/plain": [
              "0"
            ]
          },
          "metadata": {},
          "execution_count": 5
        }
      ]
    },
    {
      "cell_type": "code",
      "source": [
        "matrix = torch.tensor(\n",
        "    [\n",
        "        [[1,2,3],[1,2,3],[1,2,3]],\n",
        "        [[1,2,3],[1,2,3],[1,2,3]]\n",
        "    ]\n",
        ")\n",
        "matrix.shape"
      ],
      "metadata": {
        "colab": {
          "base_uri": "https://localhost:8080/"
        },
        "id": "ICttFtZRmzOs",
        "outputId": "cd14556f-a8b7-4bc6-f79c-599d2b424e61"
      },
      "execution_count": 6,
      "outputs": [
        {
          "output_type": "execute_result",
          "data": {
            "text/plain": [
              "torch.Size([2, 3, 3])"
            ]
          },
          "metadata": {},
          "execution_count": 6
        }
      ]
    },
    {
      "cell_type": "code",
      "source": [
        "matrix.ndim"
      ],
      "metadata": {
        "colab": {
          "base_uri": "https://localhost:8080/"
        },
        "id": "1foFrFB6n3RZ",
        "outputId": "6076d366-d9d1-4126-83ad-b2dad9e426a0"
      },
      "execution_count": 7,
      "outputs": [
        {
          "output_type": "execute_result",
          "data": {
            "text/plain": [
              "3"
            ]
          },
          "metadata": {},
          "execution_count": 7
        }
      ]
    },
    {
      "cell_type": "markdown",
      "source": [
        "Random tensors"
      ],
      "metadata": {
        "id": "RLRXKxuUoZXv"
      }
    },
    {
      "cell_type": "code",
      "source": [
        "rand_tensor = torch.rand(size=(3,4))\n",
        "rand_tensor.shape"
      ],
      "metadata": {
        "colab": {
          "base_uri": "https://localhost:8080/"
        },
        "id": "2JiJUhOCocjV",
        "outputId": "d850cf82-7fb1-4f47-d5dd-c8e46bd27265"
      },
      "execution_count": 8,
      "outputs": [
        {
          "output_type": "execute_result",
          "data": {
            "text/plain": [
              "torch.Size([3, 4])"
            ]
          },
          "metadata": {},
          "execution_count": 8
        }
      ]
    },
    {
      "cell_type": "code",
      "source": [
        "rand_tensor"
      ],
      "metadata": {
        "colab": {
          "base_uri": "https://localhost:8080/"
        },
        "id": "6EELlgnDp5oj",
        "outputId": "4f0c9545-f30d-494f-b57a-42d2dd017e88"
      },
      "execution_count": 9,
      "outputs": [
        {
          "output_type": "execute_result",
          "data": {
            "text/plain": [
              "tensor([[0.5953, 0.3571, 0.7507, 0.0331],\n",
              "        [0.7711, 0.4056, 0.3776, 0.0950],\n",
              "        [0.9609, 0.0702, 0.0286, 0.9197]])"
            ]
          },
          "metadata": {},
          "execution_count": 9
        }
      ]
    },
    {
      "cell_type": "code",
      "source": [
        "rand_tensor.ndim"
      ],
      "metadata": {
        "colab": {
          "base_uri": "https://localhost:8080/"
        },
        "id": "vg6M_Xb0p5lN",
        "outputId": "0c123fa1-0c1f-4d69-deb1-88adadc18211"
      },
      "execution_count": 10,
      "outputs": [
        {
          "output_type": "execute_result",
          "data": {
            "text/plain": [
              "2"
            ]
          },
          "metadata": {},
          "execution_count": 10
        }
      ]
    },
    {
      "cell_type": "code",
      "source": [],
      "metadata": {
        "id": "MV4Dm5i3QjzO"
      },
      "execution_count": 10,
      "outputs": []
    },
    {
      "cell_type": "code",
      "source": [
        "img_tensor = torch.rand(size=(224,224,3))\n",
        "img_tensor.shape, img_tensor.ndim"
      ],
      "metadata": {
        "colab": {
          "base_uri": "https://localhost:8080/"
        },
        "id": "Y92yyQ_Pp5id",
        "outputId": "d755429c-a5a0-43f7-ac4f-23ddb6e11413"
      },
      "execution_count": 11,
      "outputs": [
        {
          "output_type": "execute_result",
          "data": {
            "text/plain": [
              "(torch.Size([224, 224, 3]), 3)"
            ]
          },
          "metadata": {},
          "execution_count": 11
        }
      ]
    },
    {
      "cell_type": "code",
      "source": [
        "one_2_10 = torch.arange(start=1, end=10, step=1)\n",
        "one_2_10"
      ],
      "metadata": {
        "colab": {
          "base_uri": "https://localhost:8080/"
        },
        "id": "UJcS2rt0QlxJ",
        "outputId": "8e4cd6f6-bf05-4dbe-c590-bfdb532664e9"
      },
      "execution_count": 12,
      "outputs": [
        {
          "output_type": "execute_result",
          "data": {
            "text/plain": [
              "tensor([1, 2, 3, 4, 5, 6, 7, 8, 9])"
            ]
          },
          "metadata": {},
          "execution_count": 12
        }
      ]
    },
    {
      "cell_type": "code",
      "source": [],
      "metadata": {
        "id": "zxCbW89iQm3z"
      },
      "execution_count": 12,
      "outputs": []
    },
    {
      "cell_type": "code",
      "source": [
        "ten_z = torch.zeros_like(input=one_2_10)\n",
        "ten_z"
      ],
      "metadata": {
        "colab": {
          "base_uri": "https://localhost:8080/"
        },
        "id": "1Bb3Phyzp5f2",
        "outputId": "d4f8e98f-1667-4d79-fe4e-d252ea4c1cc7"
      },
      "execution_count": 13,
      "outputs": [
        {
          "output_type": "execute_result",
          "data": {
            "text/plain": [
              "tensor([0, 0, 0, 0, 0, 0, 0, 0, 0])"
            ]
          },
          "metadata": {},
          "execution_count": 13
        }
      ]
    },
    {
      "cell_type": "code",
      "source": [
        "float_tensor = torch.tensor(\n",
        "    data=[3.0, 4.5, 9.0], \n",
        "    dtype=None, \n",
        "    device=None # \"cpu\" \"cuda\"\n",
        ")\n",
        "float_tensor, float_tensor.dtype"
      ],
      "metadata": {
        "colab": {
          "base_uri": "https://localhost:8080/"
        },
        "id": "labr1jMBp5dO",
        "outputId": "e871c46d-215f-4314-8bae-2092c21cbd99"
      },
      "execution_count": 14,
      "outputs": [
        {
          "output_type": "execute_result",
          "data": {
            "text/plain": [
              "(tensor([3.0000, 4.5000, 9.0000]), torch.float32)"
            ]
          },
          "metadata": {},
          "execution_count": 14
        }
      ]
    },
    {
      "cell_type": "code",
      "source": [
        "rand_tens = torch.rand(size=(2,3))\n",
        "rand_tens"
      ],
      "metadata": {
        "colab": {
          "base_uri": "https://localhost:8080/"
        },
        "id": "OBftycw7p5ai",
        "outputId": "7d139260-2671-40e4-ad55-d741038b89f4"
      },
      "execution_count": 15,
      "outputs": [
        {
          "output_type": "execute_result",
          "data": {
            "text/plain": [
              "tensor([[0.7113, 0.7683, 0.8175],\n",
              "        [0.4739, 0.9153, 0.8814]])"
            ]
          },
          "metadata": {},
          "execution_count": 15
        }
      ]
    },
    {
      "cell_type": "code",
      "source": [
        "int_32 = torch.tensor(data=[1,2,3], dtype=torch.int32)\n",
        "float_16 = torch.tensor(data=[1.1,2.1, 3.1], dtype=torch.float16)\n",
        "float_16 * int_32"
      ],
      "metadata": {
        "colab": {
          "base_uri": "https://localhost:8080/"
        },
        "id": "zPY7Db9Bp5X5",
        "outputId": "808b1528-2265-4895-99a6-59ba2abd408d"
      },
      "execution_count": 16,
      "outputs": [
        {
          "output_type": "execute_result",
          "data": {
            "text/plain": [
              "tensor([1.0996, 4.1992, 9.2969], dtype=torch.float16)"
            ]
          },
          "metadata": {},
          "execution_count": 16
        }
      ]
    },
    {
      "cell_type": "code",
      "source": [
        "rand_tens = torch.rand(size=(2,3))\n",
        "print(rand_tens)\n",
        "print(f\"Datatype: {rand_tens.dtype}\")\n",
        "print(f\"Shape   : {rand_tens.shape}\")\n",
        "print(f\"Device  : {rand_tens.device}\")"
      ],
      "metadata": {
        "colab": {
          "base_uri": "https://localhost:8080/"
        },
        "id": "1LX00476p5Vc",
        "outputId": "7daa859f-bf79-40dd-cfe8-d81243a11e88"
      },
      "execution_count": 17,
      "outputs": [
        {
          "output_type": "stream",
          "name": "stdout",
          "text": [
            "tensor([[0.2140, 0.0542, 0.8803],\n",
            "        [0.8183, 0.8905, 0.6499]])\n",
            "Datatype: torch.float32\n",
            "Shape   : torch.Size([2, 3])\n",
            "Device  : cpu\n"
          ]
        }
      ]
    },
    {
      "cell_type": "markdown",
      "source": [
        "Tensor operations"
      ],
      "metadata": {
        "id": "ub8PwjVJlZ96"
      }
    },
    {
      "cell_type": "code",
      "source": [
        "rand_tens = torch.tensor(data=[1,2,3], dtype=torch.int32)\n",
        "rand_tens"
      ],
      "metadata": {
        "colab": {
          "base_uri": "https://localhost:8080/"
        },
        "id": "D7L1fXI9p5Sq",
        "outputId": "3322551e-3b52-46cc-e73a-a0c49b99271e"
      },
      "execution_count": 18,
      "outputs": [
        {
          "output_type": "execute_result",
          "data": {
            "text/plain": [
              "tensor([1, 2, 3], dtype=torch.int32)"
            ]
          },
          "metadata": {},
          "execution_count": 18
        }
      ]
    },
    {
      "cell_type": "code",
      "source": [
        "rand_tens + 10"
      ],
      "metadata": {
        "colab": {
          "base_uri": "https://localhost:8080/"
        },
        "id": "3RAzYkYPp5QA",
        "outputId": "074e7b07-ff77-4adb-e5f3-ddf2c198fd45"
      },
      "execution_count": 19,
      "outputs": [
        {
          "output_type": "execute_result",
          "data": {
            "text/plain": [
              "tensor([11, 12, 13], dtype=torch.int32)"
            ]
          },
          "metadata": {},
          "execution_count": 19
        }
      ]
    },
    {
      "cell_type": "code",
      "source": [
        "rand_tens * 10"
      ],
      "metadata": {
        "colab": {
          "base_uri": "https://localhost:8080/"
        },
        "id": "eMpNwfgGp5Ev",
        "outputId": "5599e1ee-c70d-48d1-a880-5a341ad16699"
      },
      "execution_count": 20,
      "outputs": [
        {
          "output_type": "execute_result",
          "data": {
            "text/plain": [
              "tensor([10, 20, 30], dtype=torch.int32)"
            ]
          },
          "metadata": {},
          "execution_count": 20
        }
      ]
    },
    {
      "cell_type": "code",
      "source": [
        "rand_tens - 5"
      ],
      "metadata": {
        "colab": {
          "base_uri": "https://localhost:8080/"
        },
        "id": "tLHWhybxmA_L",
        "outputId": "37c0ba51-cc35-44e3-ddac-a8b543bc4c72"
      },
      "execution_count": 21,
      "outputs": [
        {
          "output_type": "execute_result",
          "data": {
            "text/plain": [
              "tensor([-4, -3, -2], dtype=torch.int32)"
            ]
          },
          "metadata": {},
          "execution_count": 21
        }
      ]
    },
    {
      "cell_type": "markdown",
      "source": [
        "Matrix multiplication"
      ],
      "metadata": {
        "id": "swii3s7EpTNx"
      }
    },
    {
      "cell_type": "code",
      "source": [
        "tens1 = torch.tensor(data=[2,2,2], dtype=torch.int32)\n",
        "tens2 = torch.tensor(data=[1,2,3], dtype=torch.int32)\n",
        "tens1 * tens2, torch.matmul(tens1, tens2), tens1 @ tens2"
      ],
      "metadata": {
        "colab": {
          "base_uri": "https://localhost:8080/"
        },
        "id": "d-2sEsWamA7o",
        "outputId": "f47cc931-f23d-40fc-d9ba-d7893f0e6be0"
      },
      "execution_count": 22,
      "outputs": [
        {
          "output_type": "execute_result",
          "data": {
            "text/plain": [
              "(tensor([2, 4, 6], dtype=torch.int32),\n",
              " tensor(12, dtype=torch.int32),\n",
              " tensor(12, dtype=torch.int32))"
            ]
          },
          "metadata": {},
          "execution_count": 22
        }
      ]
    },
    {
      "cell_type": "code",
      "source": [
        "tens1 = torch.tensor(data=[[2,2,2],[3,3,3]], dtype=torch.int32)\n",
        "tens2 = torch.tensor(data=[[1,2,3],[1,2,3]], dtype=torch.int32)\n",
        "tens1 * tens2"
      ],
      "metadata": {
        "colab": {
          "base_uri": "https://localhost:8080/"
        },
        "id": "R98rCMClmA5E",
        "outputId": "f7478a1e-929c-41f0-8245-3c3d20d5d353"
      },
      "execution_count": 23,
      "outputs": [
        {
          "output_type": "execute_result",
          "data": {
            "text/plain": [
              "tensor([[2, 4, 6],\n",
              "        [3, 6, 9]], dtype=torch.int32)"
            ]
          },
          "metadata": {},
          "execution_count": 23
        }
      ]
    },
    {
      "cell_type": "code",
      "source": [
        "%%time\n",
        "tens1 = torch.tensor(\n",
        "    [[1,2,3],\n",
        "     [4,5,6]])\n",
        "tens2 = torch.tensor(\n",
        "    [[7,8],\n",
        "     [9,10],\n",
        "     [11,12]])\n",
        "tens1 @ tens2"
      ],
      "metadata": {
        "colab": {
          "base_uri": "https://localhost:8080/"
        },
        "id": "3Hhm5Jn7mA2Y",
        "outputId": "1dd8be48-8c5e-4cee-dfaa-0f81c16cc114"
      },
      "execution_count": 24,
      "outputs": [
        {
          "output_type": "stream",
          "name": "stdout",
          "text": [
            "CPU times: user 2.54 ms, sys: 0 ns, total: 2.54 ms\n",
            "Wall time: 4.86 ms\n"
          ]
        },
        {
          "output_type": "execute_result",
          "data": {
            "text/plain": [
              "tensor([[ 58,  64],\n",
              "        [139, 154]])"
            ]
          },
          "metadata": {},
          "execution_count": 24
        }
      ]
    },
    {
      "cell_type": "markdown",
      "source": [
        "Tensor aggregation"
      ],
      "metadata": {
        "id": "w2lBy3-pbL9k"
      }
    },
    {
      "cell_type": "code",
      "source": [
        "# create a tensor\n",
        "x = torch.arange(0, 100, 10)\n",
        "x, x.dtype"
      ],
      "metadata": {
        "id": "yat2yTdBmAzy",
        "outputId": "f21363c0-baa3-4353-a4f9-f31bf2a86fc0",
        "colab": {
          "base_uri": "https://localhost:8080/"
        }
      },
      "execution_count": 33,
      "outputs": [
        {
          "output_type": "execute_result",
          "data": {
            "text/plain": [
              "(tensor([ 0, 10, 20, 30, 40, 50, 60, 70, 80, 90]), torch.int64)"
            ]
          },
          "metadata": {},
          "execution_count": 33
        }
      ]
    },
    {
      "cell_type": "code",
      "source": [
        "print(f\"Min: {torch.min(x)}, max: {torch.max(x)}, median: {torch.median(x)}\")\n",
        "print(f\"Min: {x.min()}, max: {x.max()}, median: {x.median()}\")\n",
        "torch.mean(x.type(torch.float32)), x.type(torch.float32).mean()"
      ],
      "metadata": {
        "id": "JmGXJFeTmAxJ",
        "outputId": "d7262406-676a-47a2-9383-4c073d8c1df9",
        "colab": {
          "base_uri": "https://localhost:8080/"
        }
      },
      "execution_count": 37,
      "outputs": [
        {
          "output_type": "stream",
          "name": "stdout",
          "text": [
            "Min: 0, max: 90, median: 40\n",
            "Min: 0, max: 90, median: 40\n"
          ]
        },
        {
          "output_type": "execute_result",
          "data": {
            "text/plain": [
              "(tensor(45.), tensor(45.))"
            ]
          },
          "metadata": {},
          "execution_count": 37
        }
      ]
    },
    {
      "cell_type": "markdown",
      "source": [
        "POositionnal min and max"
      ],
      "metadata": {
        "id": "v1oBbD73gh19"
      }
    },
    {
      "cell_type": "code",
      "source": [
        "x = torch.arange(1, 11, 1)\n",
        "x, x.argmin(), x.argmax()"
      ],
      "metadata": {
        "id": "sFRSEwbLmAuj",
        "outputId": "b5d6076a-15be-4682-d169-7f9c7ed7b33f",
        "colab": {
          "base_uri": "https://localhost:8080/"
        }
      },
      "execution_count": 40,
      "outputs": [
        {
          "output_type": "execute_result",
          "data": {
            "text/plain": [
              "(tensor([ 1,  2,  3,  4,  5,  6,  7,  8,  9, 10]), tensor(0), tensor(9))"
            ]
          },
          "metadata": {},
          "execution_count": 40
        }
      ]
    },
    {
      "cell_type": "markdown",
      "source": [
        "* Reshaping: shape mismatch,n reshape to a specific shape\n",
        "* View: show a tensor in a different shape (not changing the original)\n",
        "* Stacking: torch stack (vstack, hstack) : combine multiple tensors on top of each other\n",
        "* Squeezing: Removes all '1' dimensions from a tensor\n",
        "* Unsqueezing: Add a '1' dimensions to a tensor\n",
        "* Permute: permute the dimensions\n",
        "\n"
      ],
      "metadata": {
        "id": "pyzLtnSnhHC2"
      }
    },
    {
      "cell_type": "code",
      "source": [
        "x = torch.arange(1., 10.)\n",
        "x, x.shape"
      ],
      "metadata": {
        "id": "B1HzOZlJmArs",
        "outputId": "7bd19621-1550-4fa1-879a-46ad13f5f148",
        "colab": {
          "base_uri": "https://localhost:8080/"
        }
      },
      "execution_count": 42,
      "outputs": [
        {
          "output_type": "execute_result",
          "data": {
            "text/plain": [
              "(tensor([1., 2., 3., 4., 5., 6., 7., 8., 9.]), torch.Size([9]))"
            ]
          },
          "metadata": {},
          "execution_count": 42
        }
      ]
    },
    {
      "cell_type": "code",
      "source": [
        "# Add a dimension\n",
        "#x_reshaped = x.reshape(1,7) # Error: reshaping a 9 element shape in a 7 element shape : reshape des not no what to do with the 8th and 9th element of the first tensor\n",
        "#x_reshaped = x.reshape(2,9) # Error: must respect the original shape of 1 dimension containing 9 elements... 1x9 = 9\n",
        "x_reshaped_1 = x.reshape(1,9) # Adds an extra dimension around all 9 elements: Add 1 dimension of 9 element.. 9x1 = 9\n",
        "x_reshaped_1, x_reshaped_1.shape"
      ],
      "metadata": {
        "id": "yNHKxttOmApT",
        "outputId": "d2255d4f-0503-417b-8e7c-918d7ae946ee",
        "colab": {
          "base_uri": "https://localhost:8080/"
        }
      },
      "execution_count": 50,
      "outputs": [
        {
          "output_type": "execute_result",
          "data": {
            "text/plain": [
              "(tensor([[1., 2., 3., 4., 5., 6., 7., 8., 9.]]), torch.Size([1, 9]))"
            ]
          },
          "metadata": {},
          "execution_count": 50
        }
      ]
    },
    {
      "cell_type": "code",
      "source": [
        "x_reshaped_2 = x.reshape(9,1) # Add an extra dimension around each elements: Add 9 dimmensions of size 1\n",
        "x_reshaped_2, x_reshaped_2.shape"
      ],
      "metadata": {
        "id": "ovFv4yrEmAmj",
        "outputId": "6ba2ec2e-a189-4395-fc8e-b50174bf5985",
        "colab": {
          "base_uri": "https://localhost:8080/"
        }
      },
      "execution_count": 51,
      "outputs": [
        {
          "output_type": "execute_result",
          "data": {
            "text/plain": [
              "(tensor([[1.],\n",
              "         [2.],\n",
              "         [3.],\n",
              "         [4.],\n",
              "         [5.],\n",
              "         [6.],\n",
              "         [7.],\n",
              "         [8.],\n",
              "         [9.]]), torch.Size([9, 1]))"
            ]
          },
          "metadata": {},
          "execution_count": 51
        }
      ]
    },
    {
      "cell_type": "code",
      "source": [
        "x = torch.arange(1., 11.)\n",
        "x, x.shape"
      ],
      "metadata": {
        "id": "a755xpqbkD1v",
        "outputId": "c6ef9466-bab8-41f3-accc-02c1c955bb8a",
        "colab": {
          "base_uri": "https://localhost:8080/"
        }
      },
      "execution_count": 52,
      "outputs": [
        {
          "output_type": "execute_result",
          "data": {
            "text/plain": [
              "(tensor([ 1.,  2.,  3.,  4.,  5.,  6.,  7.,  8.,  9., 10.]), torch.Size([10]))"
            ]
          },
          "metadata": {},
          "execution_count": 52
        }
      ]
    },
    {
      "cell_type": "code",
      "source": [
        "x_reshaped_3 = x.reshape(5,2) # Adds 5 extra dimension around each 2 elements... 5x2 = 10\n",
        "x_reshaped_3, x_reshaped_3.shape"
      ],
      "metadata": {
        "id": "RqFgYekokDzJ",
        "outputId": "68ddfd00-89c1-4dfb-f2cd-88cfc406dc5c",
        "colab": {
          "base_uri": "https://localhost:8080/"
        }
      },
      "execution_count": 53,
      "outputs": [
        {
          "output_type": "execute_result",
          "data": {
            "text/plain": [
              "(tensor([[ 1.,  2.],\n",
              "         [ 3.,  4.],\n",
              "         [ 5.,  6.],\n",
              "         [ 7.,  8.],\n",
              "         [ 9., 10.]]), torch.Size([5, 2]))"
            ]
          },
          "metadata": {},
          "execution_count": 53
        }
      ]
    },
    {
      "cell_type": "code",
      "source": [
        "x_reshaped_4 = x.reshape(2,5) # Adds 5 extra dimension around each 2 elements... 2x5 = 10\n",
        "x_reshaped_4, x_reshaped_4.shape"
      ],
      "metadata": {
        "id": "3YhHxVldkDwh",
        "outputId": "20719483-f260-4104-ea19-d81ebc52d0fd",
        "colab": {
          "base_uri": "https://localhost:8080/"
        }
      },
      "execution_count": 54,
      "outputs": [
        {
          "output_type": "execute_result",
          "data": {
            "text/plain": [
              "(tensor([[ 1.,  2.,  3.,  4.,  5.],\n",
              "         [ 6.,  7.,  8.,  9., 10.]]), torch.Size([2, 5]))"
            ]
          },
          "metadata": {},
          "execution_count": 54
        }
      ]
    },
    {
      "cell_type": "code",
      "source": [
        "# Let's have fun with 12\n",
        "x = torch.arange(1., 13.)\n",
        "x, x.shape"
      ],
      "metadata": {
        "id": "Tbr9j6ZLkDt2",
        "outputId": "ae6f9fdb-39e6-4add-cade-58237df73d58",
        "colab": {
          "base_uri": "https://localhost:8080/"
        }
      },
      "execution_count": 55,
      "outputs": [
        {
          "output_type": "execute_result",
          "data": {
            "text/plain": [
              "(tensor([ 1.,  2.,  3.,  4.,  5.,  6.,  7.,  8.,  9., 10., 11., 12.]),\n",
              " torch.Size([12]))"
            ]
          },
          "metadata": {},
          "execution_count": 55
        }
      ]
    },
    {
      "cell_type": "code",
      "source": [
        "x.reshape(1,12)"
      ],
      "metadata": {
        "id": "yBLYMGQTkDrP",
        "outputId": "81790af4-8d4c-4e3e-de2b-5374db2f5d29",
        "colab": {
          "base_uri": "https://localhost:8080/"
        }
      },
      "execution_count": 56,
      "outputs": [
        {
          "output_type": "execute_result",
          "data": {
            "text/plain": [
              "tensor([[ 1.,  2.,  3.,  4.,  5.,  6.,  7.,  8.,  9., 10., 11., 12.]])"
            ]
          },
          "metadata": {},
          "execution_count": 56
        }
      ]
    },
    {
      "cell_type": "code",
      "source": [
        "x.reshape(2,6)"
      ],
      "metadata": {
        "id": "huRSHiRNkDkN",
        "outputId": "456d4d0a-d855-4b22-f11d-ea142044f57c",
        "colab": {
          "base_uri": "https://localhost:8080/"
        }
      },
      "execution_count": 57,
      "outputs": [
        {
          "output_type": "execute_result",
          "data": {
            "text/plain": [
              "tensor([[ 1.,  2.,  3.,  4.,  5.,  6.],\n",
              "        [ 7.,  8.,  9., 10., 11., 12.]])"
            ]
          },
          "metadata": {},
          "execution_count": 57
        }
      ]
    },
    {
      "cell_type": "code",
      "source": [
        "x.reshape(3,4)"
      ],
      "metadata": {
        "id": "QDZZ7zERk4Ui",
        "outputId": "b0bb7c54-45f1-47c3-b62b-de1776420815",
        "colab": {
          "base_uri": "https://localhost:8080/"
        }
      },
      "execution_count": 58,
      "outputs": [
        {
          "output_type": "execute_result",
          "data": {
            "text/plain": [
              "tensor([[ 1.,  2.,  3.,  4.],\n",
              "        [ 5.,  6.,  7.,  8.],\n",
              "        [ 9., 10., 11., 12.]])"
            ]
          },
          "metadata": {},
          "execution_count": 58
        }
      ]
    },
    {
      "cell_type": "code",
      "source": [
        "x.reshape(4,3)"
      ],
      "metadata": {
        "id": "rzWTBxI1k53q",
        "outputId": "6b572a50-34b7-4fc6-ec72-4861edc3aa98",
        "colab": {
          "base_uri": "https://localhost:8080/"
        }
      },
      "execution_count": 59,
      "outputs": [
        {
          "output_type": "execute_result",
          "data": {
            "text/plain": [
              "tensor([[ 1.,  2.,  3.],\n",
              "        [ 4.,  5.,  6.],\n",
              "        [ 7.,  8.,  9.],\n",
              "        [10., 11., 12.]])"
            ]
          },
          "metadata": {},
          "execution_count": 59
        }
      ]
    },
    {
      "cell_type": "code",
      "source": [
        "x.reshape(6,2)"
      ],
      "metadata": {
        "id": "YMLo24mEk9nL",
        "outputId": "a35ebfce-f0d4-451d-b1fc-d3226a0c06ef",
        "colab": {
          "base_uri": "https://localhost:8080/"
        }
      },
      "execution_count": 60,
      "outputs": [
        {
          "output_type": "execute_result",
          "data": {
            "text/plain": [
              "tensor([[ 1.,  2.],\n",
              "        [ 3.,  4.],\n",
              "        [ 5.,  6.],\n",
              "        [ 7.,  8.],\n",
              "        [ 9., 10.],\n",
              "        [11., 12.]])"
            ]
          },
          "metadata": {},
          "execution_count": 60
        }
      ]
    },
    {
      "cell_type": "code",
      "source": [
        "x.reshape(12,1)"
      ],
      "metadata": {
        "id": "j5yZoiJ9k_Il",
        "outputId": "563180d1-84a1-4298-c78c-819c8bbad561",
        "colab": {
          "base_uri": "https://localhost:8080/"
        }
      },
      "execution_count": 62,
      "outputs": [
        {
          "output_type": "execute_result",
          "data": {
            "text/plain": [
              "tensor([[ 1.],\n",
              "        [ 2.],\n",
              "        [ 3.],\n",
              "        [ 4.],\n",
              "        [ 5.],\n",
              "        [ 6.],\n",
              "        [ 7.],\n",
              "        [ 8.],\n",
              "        [ 9.],\n",
              "        [10.],\n",
              "        [11.],\n",
              "        [12.]])"
            ]
          },
          "metadata": {},
          "execution_count": 62
        }
      ]
    },
    {
      "cell_type": "code",
      "source": [
        "# Back to original\n",
        "x = torch.arange(1., 10.)\n",
        "x.reshape(3,3)"
      ],
      "metadata": {
        "id": "DDDBxEeRlB4G",
        "outputId": "9d60de66-105b-43bb-cf5e-dcc9efed9a4a",
        "colab": {
          "base_uri": "https://localhost:8080/"
        }
      },
      "execution_count": 63,
      "outputs": [
        {
          "output_type": "execute_result",
          "data": {
            "text/plain": [
              "tensor([[1., 2., 3.],\n",
              "        [4., 5., 6.],\n",
              "        [7., 8., 9.]])"
            ]
          },
          "metadata": {},
          "execution_count": 63
        }
      ]
    }
  ]
}